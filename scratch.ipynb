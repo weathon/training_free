{
 "cells": [
  {
   "cell_type": "code",
   "execution_count": 1,
   "id": "af0c0a07",
   "metadata": {},
   "outputs": [],
   "source": [
    "import numpy as np"
   ]
  },
  {
   "cell_type": "code",
   "execution_count": 2,
   "id": "134f03f7",
   "metadata": {},
   "outputs": [],
   "source": [
    "pos = np.load(\"/home/wg25r/make_it_move/training_free/res/extracted_maps_pos_49.npy\")\n",
    "neg = np.load(\"/home/wg25r/make_it_move/training_free/res/extracted_maps_neg_49.npy\")\n"
   ]
  },
  {
   "cell_type": "code",
   "execution_count": 3,
   "id": "7dd5902e",
   "metadata": {},
   "outputs": [],
   "source": [
    "# pos = pos.reshape(960, 5, 53, 30).transpose(0, 1, 3, 2)"
   ]
  },
  {
   "cell_type": "code",
   "execution_count": 7,
   "id": "110b24fe",
   "metadata": {},
   "outputs": [
    {
     "data": {
      "text/plain": [
       "<matplotlib.image.AxesImage at 0x779b48179890>"
      ]
     },
     "execution_count": 7,
     "metadata": {},
     "output_type": "execute_result"
    },
    {
     "data": {
      "image/png": "[encoded data removed]",
      "text/plain": [
       "<Figure size 640x480 with 1 Axes>"
      ]
     },
     "metadata": {},
     "output_type": "display_data"
    }
   ],
   "source": [
    "import pylab\n",
    "import cv2\n",
    "mask = (pos > pos.mean(axis=0) + pos.std(axis=0)).astype(np.float32) + (pos < pos.mean(axis=0) - pos.std(axis=0)).astype(np.float32)\n",
    "pos[mask != 0] = np.nan\n",
    "mean_pos_map = np.nanmean(np.abs(pos), axis=0)\n",
    "\n",
    "mask = (neg > neg.mean(axis=0) + neg.std(axis=0)).astype(np.float32) + (neg < neg.mean(axis=0) - neg.std(axis=0)).astype(np.float32)\n",
    "neg[mask != 0] = np.nan\n",
    "mean_neg_map = np.nanmean(np.abs(neg), axis=0)\n",
    "\n",
    "\n",
    "idx = 0\n",
    "# fg = np.clip(mean_pos_map[idx] - mean_neg_map[idx], 0, 1)\n",
    "\n",
    "pylab.imshow(mean_neg_map[idx], cmap='gray')\n"
   ]
  },
  {
   "cell_type": "code",
   "execution_count": null,
   "id": "c5fe5b92",
   "metadata": {},
   "outputs": [],
   "source": []
  },
  {
   "cell_type": "code",
   "execution_count": null,
   "id": "f8336b4f",
   "metadata": {},
   "outputs": [],
   "source": []
  }
 ],
 "metadata": {
  "kernelspec": {
   "display_name": "mochi",
   "language": "python",
   "name": "python3"
  },
  "language_info": {
   "codemirror_mode": {
    "name": "ipython",
    "version": 3
   },
   "file_extension": ".py",
   "mimetype": "text/x-python",
   "name": "python",
   "nbconvert_exporter": "python",
   "pygments_lexer": "ipython3",
   "version": "3.11.11"
  }
 },
 "nbformat": 4,
 "nbformat_minor": 5
}
